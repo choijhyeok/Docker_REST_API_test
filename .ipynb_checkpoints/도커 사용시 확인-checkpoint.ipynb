{
 "cells": [
  {
   "cell_type": "markdown",
   "id": "e300ef9d-f598-4e80-b229-d48825a351b2",
   "metadata": {},
   "source": [
    "# docker \n",
    "\n",
    "\n",
    "## build시 \n",
    "  docker build --t [image 이름] .\n",
    "  \n",
    "## container 실행시 \n",
    "  docker run -d --name [container 이름] -P [포트:포트] [이미지명:tag]\n",
    "  \n",
    "  \n",
    "  \n",
    "## container image로 "
   ]
  }
 ],
 "metadata": {
  "kernelspec": {
   "display_name": "chois",
   "language": "python",
   "name": "myvenv"
  },
  "language_info": {
   "codemirror_mode": {
    "name": "ipython",
    "version": 3
   },
   "file_extension": ".py",
   "mimetype": "text/x-python",
   "name": "python",
   "nbconvert_exporter": "python",
   "pygments_lexer": "ipython3",
   "version": "3.7.0"
  }
 },
 "nbformat": 4,
 "nbformat_minor": 5
}
